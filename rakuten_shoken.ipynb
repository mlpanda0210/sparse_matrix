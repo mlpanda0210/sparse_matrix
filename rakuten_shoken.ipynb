{
 "cells": [
  {
   "cell_type": "code",
   "execution_count": 4,
   "metadata": {},
   "outputs": [],
   "source": [
    "import sys\n",
    "import os\n",
    "from selenium import webdriver\n",
    "import pandas as pd\n",
    "import time\n",
    "from selenium.webdriver.common.action_chains import ActionChains\n",
    "from selenium.webdriver.common.by import By\n",
    "\n",
    "from password.password import *\n",
    "\n",
    "browser = webdriver.Chrome()\n",
    "browser.get(\"https://www.rakuten-sec.co.jp/ITS/V_ACT_Login.html\")\n",
    "\n",
    "id = browser.find_element_by_id(\"form-login-id\")\n",
    "id.send_keys(ID)\n",
    "password = browser.find_element_by_id(\"form-login-pass\")\n",
    "password.send_keys(PASSWORD)\n",
    "\n",
    "time.sleep(1)\n",
    "\n",
    "# ログインボタンをクリック\n",
    "login_button = browser.find_element_by_id(\"login-btn\")\n",
    "login_button.click()\n",
    "browser.find_element_by_xpath('//*[@id=\"gmenu_invest\"]/a').click()\n",
    "time.sleep(1)\n",
    "\n",
    "try:\n",
    "    browser.find_element_by_class_name('modal__button--normal').click()\n",
    "except:\n",
    "    pass\n",
    "\n",
    "time.sleep(1)\n",
    "\n",
    "browser.find_element_by_xpath('//*[@id=\"show_asset_total_table\"]/span/table/tbody/tr/td[3]/span[2]/span[1]/a').click()\n",
    "tbl_element = browser.find_element_by_id('poss-tbl-sp')"
   ]
  },
  {
   "cell_type": "code",
   "execution_count": 5,
   "metadata": {},
   "outputs": [
    {
     "data": {
      "text/plain": [
       "<selenium.webdriver.remote.webelement.WebElement (session=\"b84f2f4af536e02f009d4bfc6c1e225f\", element=\"0.0980181938912228-1\")>"
      ]
     },
     "execution_count": 5,
     "metadata": {},
     "output_type": "execute_result"
    }
   ],
   "source": []
  },
  {
   "cell_type": "code",
   "execution_count": 6,
   "metadata": {},
   "outputs": [
    {
     "name": "stdout",
     "output_type": "stream",
     "text": [
      "ひふみプラス\n",
      "https://member.rakuten-sec.co.jp/app/info_fu_invest_detail.do;BV_SessionID=3404C873382D3532E1A194C980E7E778.42ad2c3e?eventType=init&SS_URL=detail/index.html&dscrCd=1410806&gmn=S&smn=01&lmn=01&fmn=01\n",
      "AI(人工知能)活用型世界株ファンド(ディープAI)\n",
      "https://member.rakuten-sec.co.jp/app/info_fu_invest_detail.do;BV_SessionID=3404C873382D3532E1A194C980E7E778.42ad2c3e?eventType=init&SS_URL=detail/index.html&dscrCd=2312820&gmn=S&smn=01&lmn=01&fmn=01\n",
      "楽天日本株4.3倍ブル\n",
      "https://member.rakuten-sec.co.jp/app/info_fu_invest_detail.do;BV_SessionID=3404C873382D3532E1A194C980E7E778.42ad2c3e?eventType=init&SS_URL=detail/index.html&dscrCd=4700831&gmn=S&smn=01&lmn=01&fmn=01\n",
      "楽天日本株4.3倍ブル\n",
      "https://member.rakuten-sec.co.jp/app/info_fu_invest_detail.do;BV_SessionID=3404C873382D3532E1A194C980E7E778.42ad2c3e?eventType=init&SS_URL=detail/index.html&dscrCd=4710831&gmn=S&smn=01&lmn=01&fmn=01\n",
      "eMAXIS Slim 先進国株式インデックス\n",
      "https://member.rakuten-sec.co.jp/app/info_fu_invest_detail.do;BV_SessionID=3404C873382D3532E1A194C980E7E778.42ad2c3e?eventType=init&SS_URL=detail/index.html&dscrCd=5612887&gmn=S&smn=01&lmn=01&fmn=01\n",
      "グローバルAIファンド\n",
      "https://member.rakuten-sec.co.jp/app/info_fu_invest_detail.do;BV_SessionID=3404C873382D3532E1A194C980E7E778.42ad2c3e?eventType=init&SS_URL=detail/index.html&dscrCd=9113821&gmn=S&smn=01&lmn=01&fmn=01\n",
      "グローバルAIファンド(為替ヘッジあり)\n",
      "https://member.rakuten-sec.co.jp/app/info_fu_invest_detail.do;BV_SessionID=3404C873382D3532E1A194C980E7E778.42ad2c3e?eventType=init&SS_URL=detail/index.html&dscrCd=9113822&gmn=S&smn=01&lmn=01&fmn=01\n",
      "ベトナム成長株インカムファンド\n",
      "https://member.rakuten-sec.co.jp/app/info_fu_invest_detail.do;BV_SessionID=3404C873382D3532E1A194C980E7E778.42ad2c3e?eventType=init&SS_URL=detail/index.html&dscrCd=9910825&gmn=S&smn=01&lmn=01&fmn=01\n"
     ]
    }
   ],
   "source": [
    "target_list = [\"ひふみプラス\",\"AI(人工知能)活用型世界株ファンド(ディープAI)\",\"eMAXIS Slim 先進国株式インデックス\",\"グローバルAIファンド\",\"グローバルAIファンド(為替ヘッジあり)\",\"楽天日本株4.3倍ブル\",\"ベトナム成長株インカムファンド\"]\n",
    "trs = tbl_element.find_elements_by_tag_name(\"tr\")\n",
    "\n",
    "for i in range(1,len(trs)):\n",
    "    tds = trs[i].find_elements(By.TAG_NAME, \"td\")\n",
    "    for j in tds:\n",
    "        try:\n",
    "            if str(j.text) in target_list:\n",
    "                print(j.text)\n",
    "                print(j.find_element_by_css_selector(\"div.mbody\").find_element_by_css_selector(\"a\").get_attribute(\"href\"))\n",
    "        except:\n",
    "            pass"
   ]
  },
  {
   "cell_type": "code",
   "execution_count": null,
   "metadata": {},
   "outputs": [],
   "source": [
    "trs"
   ]
  },
  {
   "cell_type": "code",
   "execution_count": null,
   "metadata": {
    "collapsed": true
   },
   "outputs": [],
   "source": [
    "\n",
    "\n",
    "\n",
    "class SearchMercariData(object):\n",
    "    def __init__(self,input_data):\n",
    "        self.input_data = input_data\n",
    "        self.num_page = 1\n",
    "\n",
    "    def search_from_sold_list(self):\n",
    "        df_url = self.get_url(self.num_page)\n",
    "        df = self.get_details(df_url)\n",
    "        return df\n",
    "\n",
    "    def get_url(self, num_page):\n",
    "        browser = webdriver.Chrome()\n",
    "        browser.get(\"https://www.mercari.com/jp/search/?keyword=\")\n",
    "        browser.find_element_by_xpath(\"/html/body/div/main/div[2]/form/div[2]/div[8]/div/div[2]/label\").click()\n",
    "        browser.find_element_by_xpath(\"/html/body/div/main/div[2]/form/div[2]/div[10]/button\").click()\n",
    "        df = pd.DataFrame()\n",
    "        page=0\n",
    "        for i in range(num_page):\n",
    "            if len(browser.find_elements_by_css_selector(\"li.pager-next .pager-cell:nth-child(1) a\")) > 0:\n",
    "                print(\"######################page: {} ########################\".format(page))\n",
    "                print(\"Starting to get posts...\")\n",
    "                posts = browser.find_elements_by_css_selector(\".items-box\")\n",
    "                for post in posts:\n",
    "                    url = post.find_element_by_css_selector(\"a\").get_attribute(\"href\")\n",
    "                    box_photo = post.find_element_by_css_selector(\".items-box-photo\")\n",
    "                    pic = box_photo.find_element_by_css_selector(\"img\").get_attribute(\"data-src\")\n",
    "                    se = pd.Series([url,pic],index=['url','pic'])\n",
    "                    df = df.append(se, ignore_index=True)\n",
    "                page+=1\n",
    "\n",
    "                btn = browser.find_element_by_css_selector(\"li.pager-next .pager-cell:nth-child(1) a\").get_attribute(\"href\")\n",
    "                print(\"next url:{}\".format(btn))\n",
    "\n",
    "                df = df.drop_duplicates()\n",
    "                browser.get(btn)\n",
    "                print(\"Moving to next page......\")\n",
    "            else:\n",
    "                print(\"no pager exist anymore\")\n",
    "        return df\n",
    "\n",
    "\n",
    "    def get_details(self,df_sold_out):\n",
    "        df_details_list = pd.DataFrame()\n",
    "        browser = webdriver.Chrome()\n",
    "        for i in range(df_sold_out.shape[0]):\n",
    "            url  = df_sold_out[\"url\"].values[i]\n",
    "            pic  = df_sold_out[\"pic\"].values[i]\n",
    "            browser.get(url)\n",
    "            try:\n",
    "                item_name =browser.find_element_by_xpath(\"/html/body/div[1]/main/div[1]/section[1]/h2\").text\n",
    "                try:\n",
    "                    sold_badge =browser.find_element_by_xpath(\"/html/body/div[1]/main/div[1]/section[1]/div[1]/div/div[2]/div\").text\n",
    "                except:\n",
    "                    sold_badge = \"NOT_SOLD\"\n",
    "                main_category =browser.find_element_by_xpath(\"/html/body/div[1]/main/div[1]/section[1]/div[1]/table/tbody/tr[2]/td/a[1]/div\").text\n",
    "                sub1_category =browser.find_element_by_xpath(\"/html/body/div[1]/main/div[1]/section[1]/div[1]/table/tbody/tr[2]/td/a[2]/div\").text\n",
    "                sub2_category = browser.find_element_by_xpath(\"/html/body/div[1]/main/div[1]/section[1]/div[1]/table/tbody/tr[2]/td/a[3]/div\").text\n",
    "                brand_name = browser.find_element_by_xpath(\"/html/body/div[1]/main/div[1]/section[1]/div[1]/table/tbody/tr[3]/td\").text\n",
    "\n",
    "                box_details = browser.find_element_by_xpath(\"/html/body/div[1]/main/div[1]/section[1]/div[1]/table\").text\n",
    "                list_item_condition = [\"新品、未使用\",\"未使用に近い\",\"目立った傷や汚れなし\",\"やや傷や汚れあり\",\"傷や汚れあり\"]\n",
    "                box_details = box_details.replace(\"\\n\",\" \").split(\" \")\n",
    "\n",
    "                for word in list_item_condition:\n",
    "                    try:\n",
    "                        item_condition = box_details[box_details.index(word)]\n",
    "                        break\n",
    "                    except:\n",
    "                        next\n",
    "                shipping_fee =  browser.find_element_by_xpath(\"/html/body/div[1]/main/div[1]/section[1]/div[2]/span[3]\").text\n",
    "                item_description= browser.find_element_by_xpath(\"/html/body/div[1]/main/div[1]/section[1]/div[3]\").text\n",
    "                price = browser.find_element_by_xpath(\"/html/body/div[1]/main/div[1]/section[1]/div[2]/span[1]\").text\n",
    "\n",
    "                item_description = item_description.replace(\"\\n\",\" \")\n",
    "                price = price.replace(\"¥ \",\"\")\n",
    "                se = pd.Series([item_name, sold_badge, main_category,sub1_category,sub2_category,brand_name,item_condition,shipping_fee,item_description,price,url,pic],\n",
    "                                   [\"item_name\", \"sold_badge\",\"main_category\",\"sub1_category\",\"sub2_category\",\"brand_name\",\"item_condition\",\"shipping_fee\",\"item_description\",\"price\",\"url\",\"pic\"])\n",
    "                df_details_list = df_details_list.append(se, ignore_index=True)\n",
    "                print(\"{} details of {} was added\".format(i,url) )\n",
    "            except:\n",
    "                print(\"{} are not found\".format(url))\n",
    "        return df_details_list"
   ]
  },
  {
   "cell_type": "code",
   "execution_count": null,
   "metadata": {
    "collapsed": true
   },
   "outputs": [],
   "source": []
  },
  {
   "cell_type": "code",
   "execution_count": null,
   "metadata": {
    "collapsed": true
   },
   "outputs": [],
   "source": []
  }
 ],
 "metadata": {
  "kernelspec": {
   "display_name": "Python 3",
   "language": "python",
   "name": "python3"
  },
  "language_info": {
   "codemirror_mode": {
    "name": "ipython",
    "version": 3
   },
   "file_extension": ".py",
   "mimetype": "text/x-python",
   "name": "python",
   "nbconvert_exporter": "python",
   "pygments_lexer": "ipython3",
   "version": "3.6.4"
  }
 },
 "nbformat": 4,
 "nbformat_minor": 2
}
